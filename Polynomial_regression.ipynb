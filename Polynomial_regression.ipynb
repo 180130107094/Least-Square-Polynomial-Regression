{
  "nbformat": 4,
  "nbformat_minor": 0,
  "metadata": {
    "colab": {
      "provenance": []
    },
    "kernelspec": {
      "name": "python3",
      "display_name": "Python 3"
    },
    "language_info": {
      "name": "python"
    }
  },
  "cells": [
    {
      "cell_type": "code",
      "source": [
        "import numpy as np\n",
        "import matplotlib.pyplot as plt"
      ],
      "metadata": {
        "id": "WlEMWZibCEcR"
      },
      "execution_count": null,
      "outputs": []
    },
    {
      "cell_type": "markdown",
      "source": [
        "**Generate 20 real number for the variable X from the uniform distribution U\n",
        "[0,1]**"
      ],
      "metadata": {
        "id": "dn6RtAGkCcoU"
      }
    },
    {
      "cell_type": "code",
      "source": [
        "#using numpy random functions to generate 20 nos\n",
        "random_nos20=np.random.uniform(0.0,1.0,20)\n",
        "print(random_nos20)"
      ],
      "metadata": {
        "colab": {
          "base_uri": "https://localhost:8080/"
        },
        "id": "wuHwnjkYCQFJ",
        "outputId": "f97cb877-d596-4a87-f4ae-fe015a33e22c"
      },
      "execution_count": null,
      "outputs": [
        {
          "output_type": "stream",
          "name": "stdout",
          "text": [
            "[0.86571504 0.99213823 0.93204025 0.24166019 0.7599725  0.30178912\n",
            " 0.88702803 0.27170618 0.93245973 0.51919731 0.88766268 0.11867056\n",
            " 0.73164895 0.78571005 0.49832881 0.86464331 0.98559928 0.53285116\n",
            " 0.40149092 0.86355021]\n"
          ]
        }
      ]
    },
    {
      "cell_type": "markdown",
      "source": [
        "**2. Construct the training set T = { (x 1 ,y 1 ),(x 2 ,y 2 ),……,(x 20 ,y 20 )} using the relation Yi = sin(2 π x i ) + ϵ i where ϵ i ~ N(0,0.25)**"
      ],
      "metadata": {
        "id": "IHX2vDOkFjp7"
      }
    },
    {
      "cell_type": "code",
      "source": [
        "# generating 20 values for normal distribution\n",
        "\n",
        "ei=np.random.normal(loc=0, scale =0.25, size =20)\n",
        "ei"
      ],
      "metadata": {
        "id": "fbX470e_CQOA",
        "colab": {
          "base_uri": "https://localhost:8080/"
        },
        "outputId": "d67cc257-e3c5-4c08-9e98-d2616452fd3b"
      },
      "execution_count": null,
      "outputs": [
        {
          "output_type": "execute_result",
          "data": {
            "text/plain": [
              "array([-0.22386664,  0.09672562, -0.12770128, -0.29515805, -0.00704556,\n",
              "        0.10708297,  0.01662931,  0.07561797, -0.15858052, -0.09068529,\n",
              "       -0.16811511, -0.08988829, -0.20328657, -0.43157065,  0.04435654,\n",
              "       -0.10044523, -0.40754959,  0.11569556, -0.22682459,  0.01298635])"
            ]
          },
          "metadata": {},
          "execution_count": 74
        }
      ]
    },
    {
      "cell_type": "code",
      "source": [
        "np.random.seed(0)\n",
        "\n",
        "x_train_20 = np.random.uniform(0.0, 1.0, 20)\n",
        "x_train_20\n",
        "\n",
        "#epsilon\n",
        "ei=np.random.normal(loc=0.0, scale =0.25, size =20) \n",
        "\n",
        "y_train_20 =[np.sin(2*np.pi*x_train_20[i])+ ei[i] for i in range(20)]\n",
        "y_train_20 = np.array(y_train_20)\n",
        "y_train_20\n",
        "\n",
        "train_set = np.c_[x_train_20, y_train_20]\n",
        "train_set"
      ],
      "metadata": {
        "colab": {
          "base_uri": "https://localhost:8080/"
        },
        "id": "xmnFKi1vBfQA",
        "outputId": "0d904015-aeab-4803-f3b3-30c0a4cdbbac"
      },
      "execution_count": null,
      "outputs": [
        {
          "output_type": "execute_result",
          "data": {
            "text/plain": [
              "array([[ 0.5488135 ,  0.0716014 ],\n",
              "       [ 0.71518937, -1.02746519],\n",
              "       [ 0.60276338, -0.52347583],\n",
              "       [ 0.54488318, -0.49181013],\n",
              "       [ 0.4236548 , -0.17674234],\n",
              "       [ 0.64589411, -0.63018111],\n",
              "       [ 0.43758721,  0.59828617],\n",
              "       [ 0.891773  , -0.81434228],\n",
              "       [ 0.96366276,  0.34110344],\n",
              "       [ 0.38344152,  0.30503388],\n",
              "       [ 0.79172504, -0.95439121],\n",
              "       [ 0.52889492, -0.22735238],\n",
              "       [ 0.56804456, -0.03143558],\n",
              "       [ 0.92559664, -0.08330743],\n",
              "       [ 0.07103606,  0.47039728],\n",
              "       [ 0.0871293 ,  0.61505183],\n",
              "       [ 0.0202184 , -0.09525191],\n",
              "       [ 0.83261985, -1.3634573 ],\n",
              "       [ 0.77815675, -1.07136951],\n",
              "       [ 0.87001215, -0.68982913]])"
            ]
          },
          "metadata": {},
          "execution_count": 95
        }
      ]
    },
    {
      "cell_type": "markdown",
      "source": [
        "**3) In the similar way construct a testing set of size 50 \n",
        "  I,e. Test =  { (x’ 1 ,y’ 1 ),(x’ 2 ,y’ 2 ),……,(x’ 50 ,y’ 50 )}**"
      ],
      "metadata": {
        "id": "KVWw8b5mAOaH"
      }
    },
    {
      "cell_type": "code",
      "source": [
        "random_50 = np.random.uniform(0.0,1.0,50)\n",
        "random_50"
      ],
      "metadata": {
        "colab": {
          "base_uri": "https://localhost:8080/"
        },
        "id": "XDy8whRe_L_T",
        "outputId": "1f961357-0591-4ea5-f12d-da1ce50b36c4"
      },
      "execution_count": null,
      "outputs": [
        {
          "output_type": "execute_result",
          "data": {
            "text/plain": [
              "array([0.28940609, 0.18319136, 0.58651293, 0.02010755, 0.82894003,\n",
              "       0.00469548, 0.67781654, 0.27000797, 0.73519402, 0.96218855,\n",
              "       0.24875314, 0.57615733, 0.59204193, 0.57225191, 0.22308163,\n",
              "       0.95274901, 0.44712538, 0.84640867, 0.69947928, 0.29743695,\n",
              "       0.81379782, 0.39650574, 0.8811032 , 0.58127287, 0.88173536,\n",
              "       0.69253159, 0.72525428, 0.50132438, 0.95608363, 0.6439902 ,\n",
              "       0.42385505, 0.60639321, 0.0191932 , 0.30157482, 0.66017354,\n",
              "       0.29007761, 0.61801543, 0.4287687 , 0.13547406, 0.29828233,\n",
              "       0.56996491, 0.59087276, 0.57432525, 0.65320082, 0.65210327,\n",
              "       0.43141844, 0.8965466 , 0.36756187, 0.43586493, 0.89192336])"
            ]
          },
          "metadata": {},
          "execution_count": 77
        }
      ]
    },
    {
      "cell_type": "code",
      "source": [
        "np.random.seed(0)\n",
        "x_test_50 = np.random.uniform(0.0, 1.0, 50)\n",
        "x_test_50\n",
        "\n",
        "#generating 50 different epsilon  \n",
        "ep=np.random.normal(loc=0.0, scale =0.25, size =50) \n",
        "\n",
        "y_test_50 =[np.sin(2*np.pi*x_test_50[i])+ ep[i] for i in range(50)]\n",
        "y_test_50 = np.array(y_test_50)\n",
        "y_test_50\n",
        "\n",
        "test_set_50 = np.c_[ x_test_50, y_test_50]\n",
        "test_set_50"
      ],
      "metadata": {
        "colab": {
          "base_uri": "https://localhost:8080/"
        },
        "id": "C_CbM1F6A_Br",
        "outputId": "7f8ae2bc-7d58-4f96-f975-f14173b2d55a"
      },
      "execution_count": null,
      "outputs": [
        {
          "output_type": "execute_result",
          "data": {
            "text/plain": [
              "array([[ 5.48813504e-01, -7.28485918e-01],\n",
              "       [ 7.15189366e-01, -4.88481774e-01],\n",
              "       [ 6.02763376e-01, -7.29155799e-01],\n",
              "       [ 5.44883183e-01, -3.87804767e-01],\n",
              "       [ 4.23654799e-01,  1.48306270e-01],\n",
              "       [ 6.45894113e-01, -5.99213174e-01],\n",
              "       [ 4.37587211e-01, -2.12973402e-02],\n",
              "       [ 8.91773001e-01, -6.81986096e-01],\n",
              "       [ 9.63662761e-01, -4.50201859e-01],\n",
              "       [ 3.83441519e-01,  7.65350924e-01],\n",
              "       [ 7.91725038e-01, -1.09353212e+00],\n",
              "       [ 5.28894920e-01, -4.75714462e-01],\n",
              "       [ 5.68044561e-01, -4.21675938e-01],\n",
              "       [ 9.25596638e-01, -3.43564154e-01],\n",
              "       [ 7.10360582e-02,  4.48289728e-01],\n",
              "       [ 8.71292997e-02,  5.96129172e-01],\n",
              "       [ 2.02183974e-02, -3.18859972e-02],\n",
              "       [ 8.32619846e-01, -9.58943473e-01],\n",
              "       [ 7.78156751e-01, -1.15250659e+00],\n",
              "       [ 8.70012148e-01, -8.18804664e-01],\n",
              "       [ 9.78618342e-01, -3.37227731e-01],\n",
              "       [ 7.99158564e-01, -1.38424761e+00],\n",
              "       [ 4.61479362e-01,  2.84032725e-01],\n",
              "       [ 7.80529176e-01, -1.08210403e+00],\n",
              "       [ 1.18274426e-01,  2.69053888e-01],\n",
              "       [ 6.39921021e-01, -6.54501270e-01],\n",
              "       [ 1.43353287e-01,  5.56946737e-01],\n",
              "       [ 9.44668917e-01, -3.27708109e-01],\n",
              "       [ 5.21848322e-01,  4.54263444e-02],\n",
              "       [ 4.14661940e-01,  5.43114290e-01],\n",
              "       [ 2.64555612e-01,  1.28067102e+00],\n",
              "       [ 7.74233689e-01, -1.29713656e+00],\n",
              "       [ 4.56150332e-01,  3.72628526e-01],\n",
              "       [ 5.68433949e-01, -5.88058038e-01],\n",
              "       [ 1.87898004e-02, -9.99135534e-02],\n",
              "       [ 6.17635497e-01, -8.18354373e-01],\n",
              "       [ 6.12095723e-01, -7.25402544e-01],\n",
              "       [ 6.16933997e-01, -6.56336576e-01],\n",
              "       [ 9.43748079e-01, -6.37415844e-01],\n",
              "       [ 6.81820299e-01, -6.84430900e-01],\n",
              "       [ 3.59507901e-01,  8.88896051e-01],\n",
              "       [ 4.37031954e-01,  1.33781642e-03],\n",
              "       [ 6.97631196e-01, -5.74289003e-01],\n",
              "       [ 6.02254716e-02,  8.43413673e-01],\n",
              "       [ 6.66766715e-01, -5.71644652e-01],\n",
              "       [ 6.70637870e-01, -9.23211644e-01],\n",
              "       [ 2.10382561e-01,  7.01489983e-01],\n",
              "       [ 1.28926298e-01,  9.87946866e-01],\n",
              "       [ 3.15428351e-01,  8.15888179e-01],\n",
              "       [ 3.63710771e-01,  1.06105460e+00]])"
            ]
          },
          "metadata": {},
          "execution_count": 97
        }
      ]
    },
    {
      "cell_type": "markdown",
      "source": [
        "**4) Estimate the Least Square polynomial regression model of order M= 1,2, 3,\n",
        "9, using the training set T. \n",
        "                   For example for M=1 , we need to  estimate\n",
        "            F(x) = β 1 x + β 0  \n",
        "         For M =  2\n",
        "             F(x) = β 2 x 2 +  β 1 x + β 0  .**"
      ],
      "metadata": {
        "id": "PYRCH_7xBdiH"
      }
    },
    {
      "cell_type": "code",
      "source": [
        "def loss(y,ycap):\n",
        "  \n",
        "    #Calculating root mean squared error.\n",
        "    rmse = (1/float(len(y))) * (np.sqrt(np.mean((ycap-y)**2)))\n",
        "    return rmse\n",
        "\n",
        "def theta_calc(X, y, degrees):\n",
        "    # Number of training examples. \n",
        "    m = X.shape[0]\n",
        "\n",
        "    #Making copy of x for appending higher degrees in future\n",
        "    t = X.copy()\n",
        "    \n",
        "    # Appending columns of higher degrees to X.\n",
        "    \n",
        "      \n",
        "    for i in range(2,degrees+1):\n",
        "         X = np.append(X, t**i, axis=1)\n",
        "    \n",
        "    X=np.c_(X,np.ones(le))\n",
        "    #reshaping y to (m,1)\n",
        "    y = y.reshape(m,1)\n",
        "    print('\\n')\n",
        "    # Finding theta\n",
        "    theta = np.matmul(np.matmul(np.linalg.pinv(np.matmul(np.transpose(X),X)), np.transpose(X)), y)\n",
        "    \n",
        "    return X, theta"
      ],
      "metadata": {
        "id": "AU7JoSEEBtt6"
      },
      "execution_count": null,
      "outputs": []
    },
    {
      "cell_type": "markdown",
      "source": [
        "**5) List the value of coefficients of estimated polynomial regression models for\n",
        "each case.**"
      ],
      "metadata": {
        "id": "ZCBdky9Ffb0l"
      }
    },
    {
      "cell_type": "code",
      "source": [
        "X1, theta1 = theta_calc(x_train_20.reshape(20,1), y_train_20.reshape(20,1), degrees =1)\n",
        "X2, theta2 = theta_calc(x_train_20.reshape(20,1), y_train_20.reshape(20,1), degrees =2)\n",
        "X3, theta3 = theta_calc(x_train_20.reshape(20,1), y_train_20.reshape(20,1), degrees =3)\n",
        "X9, theta9 = theta_calc(x_train_20.reshape(20,1), y_train_20.reshape(20,1), degrees =9)"
      ],
      "metadata": {
        "colab": {
          "base_uri": "https://localhost:8080/"
        },
        "id": "DqcO-xFuNByC",
        "outputId": "a0785c26-d1c3-4b1d-e2cd-49899d018fb2"
      },
      "execution_count": null,
      "outputs": [
        {
          "output_type": "stream",
          "name": "stdout",
          "text": [
            "\n",
            "\n",
            "\n",
            "\n",
            "\n",
            "\n",
            "\n",
            "\n"
          ]
        }
      ]
    },
    {
      "cell_type": "code",
      "source": [
        "print(\"Coefficients for M=1 \\n\",theta1)\n",
        "\n",
        "print(\"Coefficients for M=2\\n\",theta2)\n",
        "\n",
        "print(\"Coefficients for M=3\\n\",theta3)\n",
        "\n",
        "print(\"Coefficients for M=9\\n\",theta9)"
      ],
      "metadata": {
        "id": "EvEmuLCoibah",
        "colab": {
          "base_uri": "https://localhost:8080/"
        },
        "outputId": "c476594a-c25f-4fc3-8239-d5059b8cbf1c"
      },
      "execution_count": null,
      "outputs": [
        {
          "output_type": "stream",
          "name": "stdout",
          "text": [
            "Coefficients for M=1 \n",
            " [[-0.63167855]]\n",
            "Coefficients for M=2\n",
            " [[-0.09025837]\n",
            " [-0.70876877]]\n",
            "Coefficients for M=3\n",
            " [[ 10.61353402]\n",
            " [-33.07643386]\n",
            " [ 22.9564713 ]]\n",
            "Coefficients for M=9\n",
            " [[-1.54938218e+01]\n",
            " [ 6.65064232e+02]\n",
            " [-7.09035618e+03]\n",
            " [ 3.55827106e+04]\n",
            " [-9.95710776e+04]\n",
            " [ 1.64537184e+05]\n",
            " [-1.59866460e+05]\n",
            " [ 8.45401239e+04]\n",
            " [-1.87817818e+04]]\n"
          ]
        }
      ]
    },
    {
      "cell_type": "code",
      "source": [
        "# Plotting training dataset\n",
        "\n",
        "plt.scatter(x_train_20, y_train_20, color= \"red\")\n",
        "# x-axis label\n",
        "plt.xlabel('x_train_20')\n",
        "# y-axis label\n",
        "plt.ylabel('y_train_20')\n",
        "# plot title\n",
        "plt.title('Training dataset with 20 samples')\n",
        " \n",
        "# function to show the plot\n",
        "plt.show()"
      ],
      "metadata": {
        "id": "tyqncrO-n89O",
        "colab": {
          "base_uri": "https://localhost:8080/",
          "height": 296
        },
        "outputId": "7e0c4f9f-7b8f-469a-c53e-12f11e81085c"
      },
      "execution_count": null,
      "outputs": [
        {
          "output_type": "display_data",
          "data": {
            "text/plain": [
              "<Figure size 432x288 with 1 Axes>"
            ],
            "image/png": "[encoded data removed]"
          },
          "metadata": {
            "needs_background": "light"
          }
        }
      ]
    },
    {
      "cell_type": "markdown",
      "source": [
        "6) Obtain the prediction on testing set and compute the RMSE for polynomial\n",
        "regression models for order M =1,2,3 and 9 "
      ],
      "metadata": {
        "id": "0RDtkGItuAjN"
      }
    },
    {
      "cell_type": "code",
      "source": [
        "def predict(X, theta,degrees):\n",
        "    \n",
        "    #Making copy of x for appending higher degrees in future  \n",
        "    t = X.copy()\n",
        "    \n",
        "    # Appending columns of higher degrees to X.\n",
        "    for i in range(2,degrees+1):\n",
        "        X = np.append(X, t**i, axis=1)\n",
        "    \n",
        "    # preds is ycap which is the dot product of X and theta.\n",
        "    preds = np.dot(X, theta)\n",
        "\n",
        "    #Root mean squared error for testing using the loss function mentioned above\n",
        "    losses = loss(X,preds)\n",
        "    \n",
        "    return preds, losses"
      ],
      "metadata": {
        "id": "H-LMXucUotrm"
      },
      "execution_count": null,
      "outputs": []
    },
    {
      "cell_type": "code",
      "source": [
        "X1, theta1 = theta_calc(x_test_50.reshape(50,1), y_test_50.reshape(50,1), degrees =1)\n",
        "X2, theta2 = theta_calc(x_test_50.reshape(50,1), y_test_50.reshape(50,1), degrees =2)\n",
        "X3, theta3 = theta_calc(x_test_50.reshape(50,1), y_test_50.reshape(50,1), degrees =3)\n",
        "X9, theta9 = theta_calc(x_test_50.reshape(50,1), y_test_50.reshape(50,1), degrees =9)"
      ],
      "metadata": {
        "id": "jYNvjU-1hdhj",
        "colab": {
          "base_uri": "https://localhost:8080/"
        },
        "outputId": "1358550f-9650-4189-e252-5728fe1fe6c2"
      },
      "execution_count": null,
      "outputs": [
        {
          "output_type": "stream",
          "name": "stdout",
          "text": [
            "\n",
            "\n",
            "\n",
            "\n",
            "\n",
            "\n",
            "\n",
            "\n"
          ]
        }
      ]
    },
    {
      "cell_type": "code",
      "source": [
        "# Plotting training dataset\n",
        "\n",
        "plt.scatter(x_test_50, y_test_50, color= \"green\")\n",
        "# x-axis label\n",
        "plt.xlabel('x_test_50')\n",
        "# y-axis label\n",
        "plt.ylabel('y_test_50')\n",
        "# plot title\n",
        "plt.title('Training dataset with 50 samples')\n",
        " \n",
        "# function to show the plot\n",
        "plt.show()"
      ],
      "metadata": {
        "id": "qXwQBrwXR-KJ",
        "colab": {
          "base_uri": "https://localhost:8080/",
          "height": 296
        },
        "outputId": "da6e36fd-50c7-4ea9-ec5b-9745d9e0b79c"
      },
      "execution_count": null,
      "outputs": [
        {
          "output_type": "display_data",
          "data": {
            "text/plain": [
              "<Figure size 432x288 with 1 Axes>"
            ],
            "image/png": "[encoded data removed]"
          },
          "metadata": {
            "needs_background": "light"
          }
        }
      ]
    },
    {
      "cell_type": "code",
      "source": [
        "print(\"Coefficients for M=1 \\n\",theta1)\n",
        "\n",
        "print(\"Coefficients for M=2\\n\",theta2)\n",
        "\n",
        "print(\"Coefficients for M=3\\n\",theta3)\n",
        "\n",
        "print(\"Coefficients for M=9\\n\",theta9)"
      ],
      "metadata": {
        "id": "dsANvyj1iGRw",
        "colab": {
          "base_uri": "https://localhost:8080/"
        },
        "outputId": "d0442352-e2bf-47bc-dfb3-949f06281f95"
      },
      "execution_count": null,
      "outputs": [
        {
          "output_type": "stream",
          "name": "stdout",
          "text": [
            "Coefficients for M=1 \n",
            " [[-0.6802691]]\n",
            "Coefficients for M=2\n",
            " [[ 0.9878338 ]\n",
            " [-2.25403056]]\n",
            "Coefficients for M=3\n",
            " [[ 10.07528329]\n",
            " [-30.67183506]\n",
            " [ 20.59071554]]\n",
            "Coefficients for M=9\n",
            " [[ 1.18699568e+01]\n",
            " [-9.75144210e+01]\n",
            " [ 2.99823234e+02]\n",
            " [ 1.52233544e+03]\n",
            " [-1.31692769e+04]\n",
            " [ 3.64593117e+04]\n",
            " [-4.90157028e+04]\n",
            " [ 3.25506205e+04]\n",
            " [-8.56272754e+03]]\n"
          ]
        }
      ]
    },
    {
      "cell_type": "code",
      "source": [
        "preds1,RMSE1 = predict(x_test_50.reshape(50,1), theta1, degrees =1)\n",
        "preds2,RMSE2 = predict(x_test_50.reshape(50,1), theta2, degrees =2)\n",
        "preds3,RMSE3 = predict(x_test_50.reshape(50,1), theta3, degrees =3)\n",
        "preds9,RMSE9 = predict(x_test_50.reshape(50,1), theta9, degrees =9)\n",
        "\n",
        "print(\"RMSE for M=1 \\n\",RMSE1)\n",
        "\n",
        "print(\"RMSE for M=2\\n\",RMSE2)\n",
        "\n",
        "print(\"RMSE for M=3\\n\",RMSE3)\n",
        "\n",
        "print(\"RMSE for M=9\\n\",RMSE9)"
      ],
      "metadata": {
        "id": "RdEqa6WfouBu",
        "colab": {
          "base_uri": "https://localhost:8080/"
        },
        "outputId": "2092a4a1-7dac-479f-b3a9-1b8e65797391"
      },
      "execution_count": null,
      "outputs": [
        {
          "output_type": "stream",
          "name": "stdout",
          "text": [
            "RMSE for M=1 \n",
            " 0.020261987260175043\n",
            "RMSE for M=2\n",
            " 0.019718120863808582\n",
            "RMSE for M=3\n",
            " 0.021063230061928503\n",
            "RMSE for M=9\n",
            " 0.018496844677205235\n"
          ]
        }
      ]
    },
    {
      "cell_type": "markdown",
      "source": [
        "**7) Plot the estimate obtained by polynomial regression models for order M=1,2,3 and 9 for training set along with y 1, y 2, , y 50. . Also plot our actual mean estiamte E(Y/X) = sin(2 π x i )** "
      ],
      "metadata": {
        "id": "E3Q0TTf0KODS"
      }
    },
    {
      "cell_type": "code",
      "source": [
        "y_train_new =[np.sin(2*np.pi*x_train_20[i]) for i in range(20)]\n",
        "y_train_new = np.array(y_train_new)"
      ],
      "metadata": {
        "id": "OPxNaOQ_J47c"
      },
      "execution_count": null,
      "outputs": []
    },
    {
      "cell_type": "code",
      "source": [
        "y_test_new =[np.sin(2*np.pi*x_test_50[i]) for i in range(50)]\n",
        "y_test_new = np.array(y_test_new)"
      ],
      "metadata": {
        "id": "s_m-SkAzHEU0"
      },
      "execution_count": null,
      "outputs": []
    },
    {
      "cell_type": "markdown",
      "source": [
        "**8)Plot the estimate obtained by polynomial regression models for order M\n",
        "=1,2,3 and 9  for testing set along  with y’ 1, y’ 2,   , y’ 50. . Also plot the sin(2 π x’ i )**"
      ],
      "metadata": {
        "id": "M_OxXhEtgDMH"
      }
    },
    {
      "cell_type": "code",
      "source": [
        "def plotting(x,y,y_new, samples, theta, degrees):\n",
        "  preds,RMSE = predict(x.reshape(samples,1), theta, degrees)\n",
        "\n",
        "  fig = plt.figure(figsize=(7,4))\n",
        "\n",
        "  #y with epsilon \n",
        "  plt.plot(x, y, 'b.')\n",
        "\n",
        "  #y without epsilon \n",
        "  a,b = zip(*sorted(zip(x, y_new)))\n",
        "  plt.plot(a, b, 'r')\n",
        "\n",
        "  #prediction\n",
        "  xs, ys = zip(*sorted(zip(x, preds)))\n",
        "\n",
        "  plt.plot(xs,ys,'g')\n",
        "  plt.legend([\"Actual Data, y with epsilon\", \"y without epsilon\",\"Polynomial predictions\"])\n",
        "  plt.xlabel('X - Input')\n",
        "  plt.ylabel('y - target')\n",
        "  plt.title('Prediction on Test dataset for M :'+str(degrees))\n",
        "  plt.show()"
      ],
      "metadata": {
        "id": "YMdeut1HJ5Nu"
      },
      "execution_count": null,
      "outputs": []
    }
  ]
}